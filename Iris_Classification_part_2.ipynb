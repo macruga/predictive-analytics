{
  "nbformat": 4,
  "nbformat_minor": 0,
  "metadata": {
    "colab": {
      "name": "Iris Classification part 2.ipynb",
      "provenance": [],
      "include_colab_link": true
    },
    "kernelspec": {
      "name": "python3",
      "display_name": "Python 3"
    },
    "language_info": {
      "name": "python"
    }
  },
  "cells": [
    {
      "cell_type": "markdown",
      "metadata": {
        "id": "view-in-github",
        "colab_type": "text"
      },
      "source": [
        "<a href=\"https://colab.research.google.com/github/macruga/predictive-analytics/blob/main/Iris_Classification_part_2.ipynb\" target=\"_parent\"><img src=\"https://colab.research.google.com/assets/colab-badge.svg\" alt=\"Open In Colab\"/></a>"
      ]
    },
    {
      "cell_type": "markdown",
      "source": [
        "# Iris Classification\n",
        "\n",
        "In this example, we will develop a couple of machine learning models to classify different species of Iris, specifically iris Setosa, Versicolor, Virginica. We will solve the problem one step at a time to understand the process of machine learning and the some of the math behind it. Don't worry if you are not great at math, it's not as complicated as you might think.\n",
        "\n",
        "The [iris data set](https://en.wikipedia.org/wiki/Iris_flower_data_set) is available as part of [Sci-kit learn](https://scikit-learn.org/stable/), so it's a nice place to start and demonstrates the basic idea.\n",
        "\n",
        "![picture](https://drive.google.com/uc?id=12MNJh5Xv1jERx5vxhJ6v8-cIq5d8SM-Q)\n",
        "\n",
        "\n",
        "The data set contains 50 samples from each of three species of Iris. Four features were measured from each sample: the length and the width of the sepals and petals, in centimeters. These four features can be used to train a machine learning model to classify or predict the species of a particular Iris."
      ],
      "metadata": {
        "id": "tDgzFq8X_HWa"
      }
    },
    {
      "cell_type": "code",
      "source": [
        "import pandas as pd\n",
        "import numpy as np\n",
        "from sklearn import datasets\n",
        "import matplotlib.pyplot as plt\n",
        "import seaborn as sns\n",
        "import math\n",
        "#sns.set('whitegrid')"
      ],
      "metadata": {
        "id": "wSMJP8wK_rOA"
      },
      "execution_count": null,
      "outputs": []
    },
    {
      "cell_type": "code",
      "source": [
        "iris = datasets.load_iris()"
      ],
      "metadata": {
        "id": "_uEwaStx_rH6"
      },
      "execution_count": null,
      "outputs": []
    },
    {
      "cell_type": "code",
      "source": [
        "print(iris.DESCR)"
      ],
      "metadata": {
        "colab": {
          "base_uri": "https://localhost:8080/"
        },
        "id": "U2tZ1JV-_rCs",
        "outputId": "9210e41d-703f-4963-b15f-2ea7d711ec40"
      },
      "execution_count": null,
      "outputs": [
        {
          "output_type": "stream",
          "name": "stdout",
          "text": [
            ".. _iris_dataset:\n",
            "\n",
            "Iris plants dataset\n",
            "--------------------\n",
            "\n",
            "**Data Set Characteristics:**\n",
            "\n",
            "    :Number of Instances: 150 (50 in each of three classes)\n",
            "    :Number of Attributes: 4 numeric, predictive attributes and the class\n",
            "    :Attribute Information:\n",
            "        - sepal length in cm\n",
            "        - sepal width in cm\n",
            "        - petal length in cm\n",
            "        - petal width in cm\n",
            "        - class:\n",
            "                - Iris-Setosa\n",
            "                - Iris-Versicolour\n",
            "                - Iris-Virginica\n",
            "                \n",
            "    :Summary Statistics:\n",
            "\n",
            "    ============== ==== ==== ======= ===== ====================\n",
            "                    Min  Max   Mean    SD   Class Correlation\n",
            "    ============== ==== ==== ======= ===== ====================\n",
            "    sepal length:   4.3  7.9   5.84   0.83    0.7826\n",
            "    sepal width:    2.0  4.4   3.05   0.43   -0.4194\n",
            "    petal length:   1.0  6.9   3.76   1.76    0.9490  (high!)\n",
            "    petal width:    0.1  2.5   1.20   0.76    0.9565  (high!)\n",
            "    ============== ==== ==== ======= ===== ====================\n",
            "\n",
            "    :Missing Attribute Values: None\n",
            "    :Class Distribution: 33.3% for each of 3 classes.\n",
            "    :Creator: R.A. Fisher\n",
            "    :Donor: Michael Marshall (MARSHALL%PLU@io.arc.nasa.gov)\n",
            "    :Date: July, 1988\n",
            "\n",
            "The famous Iris database, first used by Sir R.A. Fisher. The dataset is taken\n",
            "from Fisher's paper. Note that it's the same as in R, but not as in the UCI\n",
            "Machine Learning Repository, which has two wrong data points.\n",
            "\n",
            "This is perhaps the best known database to be found in the\n",
            "pattern recognition literature.  Fisher's paper is a classic in the field and\n",
            "is referenced frequently to this day.  (See Duda & Hart, for example.)  The\n",
            "data set contains 3 classes of 50 instances each, where each class refers to a\n",
            "type of iris plant.  One class is linearly separable from the other 2; the\n",
            "latter are NOT linearly separable from each other.\n",
            "\n",
            ".. topic:: References\n",
            "\n",
            "   - Fisher, R.A. \"The use of multiple measurements in taxonomic problems\"\n",
            "     Annual Eugenics, 7, Part II, 179-188 (1936); also in \"Contributions to\n",
            "     Mathematical Statistics\" (John Wiley, NY, 1950).\n",
            "   - Duda, R.O., & Hart, P.E. (1973) Pattern Classification and Scene Analysis.\n",
            "     (Q327.D83) John Wiley & Sons.  ISBN 0-471-22361-1.  See page 218.\n",
            "   - Dasarathy, B.V. (1980) \"Nosing Around the Neighborhood: A New System\n",
            "     Structure and Classification Rule for Recognition in Partially Exposed\n",
            "     Environments\".  IEEE Transactions on Pattern Analysis and Machine\n",
            "     Intelligence, Vol. PAMI-2, No. 1, 67-71.\n",
            "   - Gates, G.W. (1972) \"The Reduced Nearest Neighbor Rule\".  IEEE Transactions\n",
            "     on Information Theory, May 1972, 431-433.\n",
            "   - See also: 1988 MLC Proceedings, 54-64.  Cheeseman et al\"s AUTOCLASS II\n",
            "     conceptual clustering system finds 3 classes in the data.\n",
            "   - Many, many more ...\n"
          ]
        }
      ]
    },
    {
      "cell_type": "code",
      "source": [
        "iris.target_names"
      ],
      "metadata": {
        "colab": {
          "base_uri": "https://localhost:8080/"
        },
        "id": "wF8LqAMK_q9d",
        "outputId": "dc1b45d7-8149-420e-96f8-1297dd3bd88e"
      },
      "execution_count": null,
      "outputs": [
        {
          "output_type": "execute_result",
          "data": {
            "text/plain": [
              "array(['setosa', 'versicolor', 'virginica'], dtype='<U10')"
            ]
          },
          "metadata": {},
          "execution_count": 4
        }
      ]
    },
    {
      "cell_type": "code",
      "source": [
        "len(iris.data)"
      ],
      "metadata": {
        "colab": {
          "base_uri": "https://localhost:8080/"
        },
        "id": "BXGdwxHX_q2s",
        "outputId": "9751d533-4fff-44e7-a190-4b1fee02bfb3"
      },
      "execution_count": null,
      "outputs": [
        {
          "output_type": "execute_result",
          "data": {
            "text/plain": [
              "150"
            ]
          },
          "metadata": {},
          "execution_count": 5
        }
      ]
    },
    {
      "cell_type": "code",
      "source": [
        "iris.target"
      ],
      "metadata": {
        "colab": {
          "base_uri": "https://localhost:8080/"
        },
        "id": "zDpP5e4j_qyL",
        "outputId": "4c660b94-7035-4122-dc37-e6f98421ccd2"
      },
      "execution_count": null,
      "outputs": [
        {
          "output_type": "execute_result",
          "data": {
            "text/plain": [
              "array([0, 0, 0, 0, 0, 0, 0, 0, 0, 0, 0, 0, 0, 0, 0, 0, 0, 0, 0, 0, 0, 0,\n",
              "       0, 0, 0, 0, 0, 0, 0, 0, 0, 0, 0, 0, 0, 0, 0, 0, 0, 0, 0, 0, 0, 0,\n",
              "       0, 0, 0, 0, 0, 0, 1, 1, 1, 1, 1, 1, 1, 1, 1, 1, 1, 1, 1, 1, 1, 1,\n",
              "       1, 1, 1, 1, 1, 1, 1, 1, 1, 1, 1, 1, 1, 1, 1, 1, 1, 1, 1, 1, 1, 1,\n",
              "       1, 1, 1, 1, 1, 1, 1, 1, 1, 1, 1, 1, 2, 2, 2, 2, 2, 2, 2, 2, 2, 2,\n",
              "       2, 2, 2, 2, 2, 2, 2, 2, 2, 2, 2, 2, 2, 2, 2, 2, 2, 2, 2, 2, 2, 2,\n",
              "       2, 2, 2, 2, 2, 2, 2, 2, 2, 2, 2, 2, 2, 2, 2, 2, 2, 2])"
            ]
          },
          "metadata": {},
          "execution_count": 6
        }
      ]
    },
    {
      "cell_type": "code",
      "source": [
        "# Select all rows and only first two columns (sepal length/width)\n",
        "X = iris.data[:, :2]\n",
        "\n",
        "# Target will be used to plot samples in different colors for different species\n",
        "Y = iris.target\n",
        "\n",
        "plt.scatter(X[:,0], X[:,1], c=Y)\n",
        "plt.xlabel('Sepal Length (cm)')\n",
        "plt.ylabel('Sepal Width (cm)')\n",
        "plt.title('Sepal size distribution')"
      ],
      "metadata": {
        "colab": {
          "base_uri": "https://localhost:8080/",
          "height": 312
        },
        "id": "2hMn2T6-_quw",
        "outputId": "28b0a697-0a3a-43e8-971c-3884598fe853"
      },
      "execution_count": null,
      "outputs": [
        {
          "output_type": "execute_result",
          "data": {
            "text/plain": [
              "Text(0.5, 1.0, 'Sepal size distribution')"
            ]
          },
          "metadata": {},
          "execution_count": 7
        },
        {
          "output_type": "display_data",
          "data": {
            "text/plain": [
              "<Figure size 432x288 with 1 Axes>"
            ],
            "image/png": "[encoded data removed]"
          },
          "metadata": {
            "needs_background": "light"
          }
        }
      ]
    },
    {
      "cell_type": "code",
      "source": [
        "# Select all rows and only last two columns (sepal length/width)\n",
        "X = iris.data[:, 2:]\n",
        "\n",
        "# Target will be used to plot samples in different colors for different species\n",
        "Y = iris.target\n",
        "\n",
        "plt.scatter(X[:,0], X[:,1], c=Y, cmap='cividis')\n",
        "plt.xlabel('Petal Length')\n",
        "plt.ylabel('Petal Width')\n",
        "plt.title('Petal size distribution (cm)')"
      ],
      "metadata": {
        "colab": {
          "base_uri": "https://localhost:8080/",
          "height": 312
        },
        "id": "W52-D5abA_Dh",
        "outputId": "4d19fc9e-a2f1-4c48-b139-70cbf952817c"
      },
      "execution_count": null,
      "outputs": [
        {
          "output_type": "execute_result",
          "data": {
            "text/plain": [
              "Text(0.5, 1.0, 'Petal size distribution (cm)')"
            ]
          },
          "metadata": {},
          "execution_count": 8
        },
        {
          "output_type": "display_data",
          "data": {
            "text/plain": [
              "<Figure size 432x288 with 1 Axes>"
            ],
            "image/png": "[encoded data removed]"
          },
          "metadata": {
            "needs_background": "light"
          }
        }
      ]
    },
    {
      "cell_type": "markdown",
      "source": [
        "## Logistic Regression Model\n",
        "\n",
        "We will create a basic model that predicts if a sample is one of the three species or not.\n",
        "\n",
        "The structure of the model appears below:\n",
        "\n",
        "\n",
        "![picture](https://drive.google.com/uc?id=17-VS7Iv-cC9IoeT2FcpXMeKUZy_do-lm)\n",
        "\n",
        "\n",
        "In 1958, an image recognition machine was developed with 400 [perceptrons](https://en.wikipedia.org/wiki/Perceptron) at the Cornell Aeronautical Lab. It showed some inital promise, but turned out to have limited capability. It paved the way for more sophisticated [multi-layer perceptrons](https://en.wikipedia.org/wiki/Multilayer_perceptron) which are more powerful and widely used in deep learning models today. "
      ],
      "metadata": {
        "id": "kMJIXcUXBFqE"
      }
    },
    {
      "cell_type": "markdown",
      "source": [
        "## Sigmoid Function\n",
        "\n",
        "The [Sigmoid function](https://en.wikipedia.org/wiki/Sigmoid_function) is commonly used in logistic regression and artificial neurons. It's one way to convert continous values into more of a binary value. This also called an activation function in neural networks. There are many other types of activation functions in use today."
      ],
      "metadata": {
        "id": "dWYxJTo1CnJn"
      }
    },
    {
      "cell_type": "code",
      "source": [
        "def sigmoid(z):\n",
        "  return 1.0/(1 + math.e ** (-z))\n",
        "\n",
        "x = [i * 0.1 for i in range(-50, 51)]\n",
        "y = [sigmoid(z) for z in x]\n",
        "plt.plot(x, y)\n",
        "plt.xlabel('x')\n",
        "plt.ylabel('y')\n",
        "plt.title('Logistic Sigmoid')"
      ],
      "metadata": {
        "colab": {
          "base_uri": "https://localhost:8080/",
          "height": 312
        },
        "id": "emcbw1skCnEZ",
        "outputId": "dccd3601-f1d6-4b2d-9fed-9322fe0162ab"
      },
      "execution_count": null,
      "outputs": [
        {
          "output_type": "execute_result",
          "data": {
            "text/plain": [
              "Text(0.5, 1.0, 'Logistic Sigmoid')"
            ]
          },
          "metadata": {},
          "execution_count": 9
        },
        {
          "output_type": "display_data",
          "data": {
            "text/plain": [
              "<Figure size 432x288 with 1 Axes>"
            ],
            "image/png": "[encoded data removed]"
          },
          "metadata": {
            "needs_background": "light"
          }
        }
      ]
    },
    {
      "cell_type": "markdown",
      "source": [
        "## Prediction Function\n",
        "\n",
        "This function takes one sample, multiplies by the weights, adds a bias, and passes the sum through a Sigmoid function. This function will be used to determine weights and biases during training as well as make predictions after training is complete."
      ],
      "metadata": {
        "id": "-iAzPK_vCm9t"
      }
    },
    {
      "cell_type": "code",
      "source": [
        "def predict(sample):\n",
        "  result  = 0.0\n",
        "  for i in range(len(sample)):\n",
        "    result = result + weights[i] * sample[i]\n",
        "    \n",
        "  result = result + bias\n",
        "  return sigmoid(result)"
      ],
      "metadata": {
        "id": "ovRNkI4tCm3d"
      },
      "execution_count": null,
      "outputs": []
    },
    {
      "cell_type": "markdown",
      "source": [
        "## Loss and Cost Functions\n",
        "\n",
        "The loss function compares the predicted output with the expected output for a single training sample. If the absolute difference between the predicted and expected output is high, the loss should be high. The loss function here is a bit more complicated than a simple difference between predicted output and expected output, because it is known to make training easier.\n",
        "\n",
        "$$\\mathcal L(y, \\hat y) = -(y \\log \\hat y + (1-y) \\log (1 - \\hat y))$$\n",
        "\n",
        "Where $\\mathcal L$ is the loss, $y$ is the training sample or ground truth, and $\\hat y$ is the predicted value from the model."
      ],
      "metadata": {
        "id": "Tzrvuq5FCmxJ"
      }
    },
    {
      "cell_type": "code",
      "source": [
        "def loss(y_train, y_predicted):\n",
        "  return -(y_train * math.log(y_predicted) + (1.0 - y_train) * math.log(1 - y_predicted))"
      ],
      "metadata": {
        "id": "LyYo667sCmrb"
      },
      "execution_count": null,
      "outputs": []
    },
    {
      "cell_type": "markdown",
      "source": [
        "We can see how this function behaves for a fixed training value and a range of predicted values."
      ],
      "metadata": {
        "id": "hBiYIti_CmkQ"
      }
    },
    {
      "cell_type": "code",
      "source": [
        "y_train = 0.9\n",
        "x = [i * 0.1 for i in range(1, 9)]\n",
        "y = [loss(y_train, yp) for yp in x]\n",
        "plt.plot(x, y)\n",
        "plt.xlabel('x')\n",
        "plt.ylabel('y')\n",
        "plt.title('Loss near %0.2f' % y_train)"
      ],
      "metadata": {
        "colab": {
          "base_uri": "https://localhost:8080/",
          "height": 312
        },
        "id": "P6Ixe-gOCmbE",
        "outputId": "81ab742b-984c-4544-cde9-c4dc0293c866"
      },
      "execution_count": null,
      "outputs": [
        {
          "output_type": "execute_result",
          "data": {
            "text/plain": [
              "Text(0.5, 1.0, 'Loss near 0.90')"
            ]
          },
          "metadata": {},
          "execution_count": 12
        },
        {
          "output_type": "display_data",
          "data": {
            "text/plain": [
              "<Figure size 432x288 with 1 Axes>"
            ],
            "image/png": "[encoded data removed]"
          },
          "metadata": {
            "needs_background": "light"
          }
        }
      ]
    },
    {
      "cell_type": "markdown",
      "source": [
        "The cost function is the average of the loss over all training samples:\n",
        "\n",
        "$$\\mathcal J = \\frac{1}{m} \\sum_{i=0}^{m} \\mathcal L(y, \\hat y)$$"
      ],
      "metadata": {
        "id": "lbJcHHG8CmV0"
      }
    },
    {
      "cell_type": "markdown",
      "source": [
        "Backpropagation Algorithm\n",
        "\n",
        "[Backpropagation](https://en.wikipedia.org/wiki/Backpropagation) is a widely used algorithm for training machine learning models. It attempts to learn weights and biases by iteratively adjusting these values in order to minimize the loss between predicted and expected output."
      ],
      "metadata": {
        "id": "6lmkVknyGEsd"
      }
    },
    {
      "cell_type": "code",
      "source": [
        "num_features = iris.data.shape[1]\n",
        "\n",
        "def train_one_epoch(x_train_samples, y_train_samples):\n",
        "  cost = 0.0\n",
        "  dw = [0.0] * num_features\n",
        "  db = 0.0\n",
        "\n",
        "  global bias, weights\n",
        "\n",
        "  m = len(x_train_samples)\n",
        "  for i in range(m):\n",
        "    x_sample = x_train_samples[i]\n",
        "    y_sample = y_train_samples[i]\n",
        "    predicted = predict(x_sample)\n",
        "    cost = cost + loss(y_sample, predicted)\n",
        "    \n",
        "    # dz is the derivative of the loss function\n",
        "    dz = predicted - y_sample\n",
        "    \n",
        "    for j in range(len(weights)):\n",
        "      dw[j] = dw[j] + x_sample[j] * dz\n",
        "    db = db + dz\n",
        "  \n",
        "  cost = cost / m\n",
        "  db = db / m\n",
        "  bias = bias - learning_rate*db\n",
        "  for j in range(len(weights)):\n",
        "    dw[j] = dw[j] / m\n",
        "    weights[j] = weights[j] - learning_rate*dw[j]\n",
        "  \n",
        "  return cost"
      ],
      "metadata": {
        "id": "GqxcoXwuGG1b"
      },
      "execution_count": null,
      "outputs": []
    },
    {
      "cell_type": "markdown",
      "source": [
        "## Training Algorithm\n",
        "\n",
        "\n",
        "This algorithm with iterate through the training data many times and call the backpropagation function."
      ],
      "metadata": {
        "id": "jwFuumOlFhz0"
      }
    },
    {
      "cell_type": "code",
      "source": [
        "# Model will \"learn\" values for the weights and biases\n",
        "\n",
        "weights = [0.0] * num_features\n",
        "bias = 0.0\n",
        "\n",
        "learning_rate = 0.1\n",
        "\n",
        "epochs = 2000\n",
        "\n",
        "x_train_samples = iris.data\n",
        "y_train_samples = [1 if y == 2 else 0 for y in iris.target]\n",
        "\n",
        "loss_array = []\n",
        "for epoch in range(epochs):\n",
        "  loss_value = train_one_epoch(x_train_samples, y_train_samples)\n",
        "  loss_array.append(loss_value)\n",
        "\n",
        "plt.plot(range(epochs), loss_array)\n",
        "plt.ylabel('Loss')\n",
        "plt.xlabel('Epoch')\n",
        "plt.title('Loss vs. Epoch')\n",
        "plt.show()"
      ],
      "metadata": {
        "colab": {
          "base_uri": "https://localhost:8080/",
          "height": 295
        },
        "id": "ldRfAy11FjWV",
        "outputId": "fce97e90-ae05-4dcd-e994-f41142e2c14d"
      },
      "execution_count": null,
      "outputs": [
        {
          "output_type": "display_data",
          "data": {
            "text/plain": [
              "<Figure size 432x288 with 1 Axes>"
            ],
            "image/png": "[encoded data removed]"
          },
          "metadata": {
            "needs_background": "light"
          }
        }
      ]
    },
    {
      "cell_type": "markdown",
      "source": [
        "## Make Predictions\n",
        "\n",
        "Once the model is trained, it can be used to make predictions."
      ],
      "metadata": {
        "id": "jr_pSIQPFi4E"
      }
    },
    {
      "cell_type": "code",
      "source": [
        "predictions = []\n",
        "\n",
        "m = len(x_train_samples)\n",
        "correct = 0\n",
        "for i in range(m):\n",
        "  sample = x_train_samples[i]\n",
        "  value = predict(sample)\n",
        "  predictions.append(value)\n",
        "  if value >= 0.5:\n",
        "    value = 1\n",
        "  else:\n",
        "    value = 0\n",
        "  if value == y_train_samples[i]:\n",
        "    correct = correct + 1.0\n",
        "\n",
        "plt.plot(range(m), predictions, label='Predicted')\n",
        "plt.plot(range(m), y_train_samples, label='Ground truth')\n",
        "plt.ylabel('Prediction')\n",
        "plt.xlabel('Sample')\n",
        "plt.legend(loc='best')\n",
        "plt.show()\n",
        "\n",
        "print('Accuracy: %.2f %%' % (100 * correct/m))"
      ],
      "metadata": {
        "id": "qzx9AfnlH-56",
        "outputId": "b05784a7-1079-4e42-ae53-d16daee14322",
        "colab": {
          "base_uri": "https://localhost:8080/",
          "height": 296
        }
      },
      "execution_count": null,
      "outputs": [
        {
          "output_type": "display_data",
          "data": {
            "text/plain": [
              "<Figure size 432x288 with 1 Axes>"
            ],
            "image/png": "[encoded data removed]"
          },
          "metadata": {
            "needs_background": "light"
          }
        },
        {
          "output_type": "stream",
          "name": "stdout",
          "text": [
            "Accuracy: 98.00 %\n"
          ]
        }
      ]
    },
    {
      "cell_type": "markdown",
      "source": [
        "# KNN Part..."
      ],
      "metadata": {
        "id": "GDDqIZ96IAUY"
      }
    },
    {
      "cell_type": "code",
      "source": [
        "\n",
        "import scipy as sp\n",
        "from pandas.plotting import andrews_curves\n",
        "from pandas.plotting import parallel_coordinates\n",
        "\n",
        "from sklearn.preprocessing import LabelEncoder\n",
        "\n",
        "# Fitting clasifier to the Training set\n",
        "from sklearn.neighbors import KNeighborsClassifier\n",
        "from sklearn.metrics import confusion_matrix, accuracy_score\n",
        "from sklearn.model_selection import cross_val_score\n",
        "\n",
        "# 3D Visualization\n",
        "from mpl_toolkits.mplot3d import Axes3D"
      ],
      "metadata": {
        "id": "NeFi3KXww9wG"
      },
      "execution_count": null,
      "outputs": []
    },
    {
      "cell_type": "code",
      "source": [
        ""
      ],
      "metadata": {
        "id": "UdAXQw6iw9n3"
      },
      "execution_count": null,
      "outputs": []
    },
    {
      "cell_type": "code",
      "source": [
        ""
      ],
      "metadata": {
        "id": "VhfUXul7w9fA"
      },
      "execution_count": null,
      "outputs": []
    },
    {
      "cell_type": "code",
      "source": [
        ""
      ],
      "metadata": {
        "id": "JuSDWn6Ow9V3"
      },
      "execution_count": null,
      "outputs": []
    },
    {
      "cell_type": "code",
      "source": [
        ""
      ],
      "metadata": {
        "id": "YofNT194w9Nm"
      },
      "execution_count": null,
      "outputs": []
    },
    {
      "cell_type": "code",
      "source": [
        ""
      ],
      "metadata": {
        "id": "bGUDXo8Bw9FE"
      },
      "execution_count": null,
      "outputs": []
    },
    {
      "cell_type": "code",
      "source": [
        ""
      ],
      "metadata": {
        "id": "R0FDHS6mw8_T"
      },
      "execution_count": null,
      "outputs": []
    }
  ]
}