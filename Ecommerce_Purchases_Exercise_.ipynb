{
  "nbformat": 4,
  "nbformat_minor": 0,
  "metadata": {
    "kernelspec": {
      "display_name": "Python 3",
      "language": "python",
      "name": "python3"
    },
    "language_info": {
      "codemirror_mode": {
        "name": "ipython",
        "version": 3
      },
      "file_extension": ".py",
      "mimetype": "text/x-python",
      "name": "python",
      "nbconvert_exporter": "python",
      "pygments_lexer": "ipython3",
      "version": "3.7.3"
    },
    "colab": {
      "name": "Ecommerce Purchases Exercise .ipynb",
      "provenance": [],
      "collapsed_sections": [],
      "include_colab_link": true
    }
  },
  "cells": [
    {
      "cell_type": "markdown",
      "metadata": {
        "id": "view-in-github",
        "colab_type": "text"
      },
      "source": [
        "<a href=\"https://colab.research.google.com/github/macruga/predictive-analytics/blob/main/Ecommerce_Purchases_Exercise_.ipynb\" target=\"_parent\"><img src=\"https://colab.research.google.com/assets/colab-badge.svg\" alt=\"Open In Colab\"/></a>"
      ]
    },
    {
      "cell_type": "markdown",
      "metadata": {
        "id": "fbbYQywFeGz1"
      },
      "source": [
        "# Ecommerce Purchases Exercise\n",
        "\n",
        "In this Exercise you will work with 'Fake Data' about some purchases done through Amazon! Follow the directions on the cells bellow and try your best to answer the questions and complete the tasks. Many of the tasks can be solved in 'different ways'.\n",
        "\n",
        "Do not get discouraged if the exercie does not make \"Real-World\", REMEMBER that all the data is made-up.\n",
        "\n",
        "Also note that all of these questions can be answered with one line of code.\n",
        "____\n",
        "*Import pandas and read in the Ecommerce Purchases csv file and set it to a DataFrame called ecom.*"
      ]
    },
    {
      "cell_type": "code",
      "metadata": {
        "id": "SEmjk8Hzw8BG"
      },
      "source": [
        "import pandas as pd # Import Pandas for data manipulation using dataframes\n"
      ],
      "execution_count": 3,
      "outputs": []
    },
    {
      "cell_type": "code",
      "metadata": {
        "collapsed": true,
        "jupyter": {
          "outputs_hidden": true
        },
        "id": "2A1P9e3GeGz3"
      },
      "source": [
        "econ = pd.read_csv('https://raw.githubusercontent.com/glopez21/ML-Data/main/EcommercePurchases.csv')"
      ],
      "execution_count": 4,
      "outputs": []
    },
    {
      "cell_type": "code",
      "metadata": {
        "collapsed": true,
        "jupyter": {
          "outputs_hidden": true
        },
        "id": "ydw1YvM-eGz4"
      },
      "source": [
        ""
      ],
      "execution_count": null,
      "outputs": []
    },
    {
      "cell_type": "markdown",
      "metadata": {
        "id": "RDG5PYSDeGz4"
      },
      "source": [
        "**Check the head of the DataFrame.**"
      ]
    },
    {
      "cell_type": "code",
      "metadata": {
        "jupyter": {
          "outputs_hidden": false
        },
        "id": "u2K7HypBeGz5",
        "colab": {
          "base_uri": "https://localhost:8080/",
          "height": 642
        },
        "outputId": "bddc4ab7-1daa-4dee-9f91-b014317fa284"
      },
      "source": [
        "econ.head()"
      ],
      "execution_count": 5,
      "outputs": [
        {
          "output_type": "execute_result",
          "data": {
            "text/plain": [
              "                                             Address    Lot AM or PM  \\\n",
              "0  16629 Pace Camp Apt. 448\\nAlexisborough, NE 77...  46 in       PM   \n",
              "1  9374 Jasmine Spurs Suite 508\\nSouth John, TN 8...  28 rn       PM   \n",
              "2                   Unit 0065 Box 5052\\nDPO AP 27450  94 vE       PM   \n",
              "3              7780 Julia Fords\\nNew Stacy, WA 45798  36 vm       PM   \n",
              "4  23012 Munoz Drive Suite 337\\nNew Cynthia, TX 5...  20 IE       AM   \n",
              "\n",
              "                                        Browser Info  \\\n",
              "0  Opera/9.56.(X11; Linux x86_64; sl-SI) Presto/2...   \n",
              "1  Opera/8.93.(Windows 98; Win 9x 4.90; en-US) Pr...   \n",
              "2  Mozilla/5.0 (compatible; MSIE 9.0; Windows NT ...   \n",
              "3  Mozilla/5.0 (Macintosh; Intel Mac OS X 10_8_0 ...   \n",
              "4  Opera/9.58.(X11; Linux x86_64; it-IT) Presto/2...   \n",
              "\n",
              "                           Company       Credit Card CC Exp Date  \\\n",
              "0                  Martinez-Herman  6011929061123406       02/20   \n",
              "1  Fletcher, Richards and Whitaker  3337758169645356       11/18   \n",
              "2       Simpson, Williams and Pham      675957666125       08/19   \n",
              "3  Williams, Marshall and Buchanan  6011578504430710       02/24   \n",
              "4        Brown, Watson and Andrews  6011456623207998       10/25   \n",
              "\n",
              "   CC Security Code                  CC Provider  \\\n",
              "0               900                 JCB 16 digit   \n",
              "1               561                   Mastercard   \n",
              "2               699                 JCB 16 digit   \n",
              "3               384                     Discover   \n",
              "4               678  Diners Club / Carte Blanche   \n",
              "\n",
              "                            Email                                     Job  \\\n",
              "0               pdunlap@yahoo.com  Scientist, product/process development   \n",
              "1              anthony41@reed.com                       Drilling engineer   \n",
              "2  amymiller@morales-harrison.com                Customer service manager   \n",
              "3     brent16@olson-robinson.info                       Drilling engineer   \n",
              "4     christopherwright@gmail.com                             Fine artist   \n",
              "\n",
              "        IP Address Language  Purchase Price  \n",
              "0  149.146.147.205       el           98.14  \n",
              "1     15.160.41.51       fr           70.73  \n",
              "2   132.207.160.22       de            0.95  \n",
              "3     30.250.74.19       es           78.04  \n",
              "4     24.140.33.94       es           77.82  "
            ],
            "text/html": [
              "\n",
              "  <div id=\"df-0d50fbba-0553-4bfb-ac08-ddd31e2db433\">\n",
              "    <div class=\"colab-df-container\">\n",
              "      <div>\n",
              "<style scoped>\n",
              "    .dataframe tbody tr th:only-of-type {\n",
              "        vertical-align: middle;\n",
              "    }\n",
              "\n",
              "    .dataframe tbody tr th {\n",
              "        vertical-align: top;\n",
              "    }\n",
              "\n",
              "    .dataframe thead th {\n",
              "        text-align: right;\n",
              "    }\n",
              "</style>\n",
              "<table border=\"1\" class=\"dataframe\">\n",
              "  <thead>\n",
              "    <tr style=\"text-align: right;\">\n",
              "      <th></th>\n",
              "      <th>Address</th>\n",
              "      <th>Lot</th>\n",
              "      <th>AM or PM</th>\n",
              "      <th>Browser Info</th>\n",
              "      <th>Company</th>\n",
              "      <th>Credit Card</th>\n",
              "      <th>CC Exp Date</th>\n",
              "      <th>CC Security Code</th>\n",
              "      <th>CC Provider</th>\n",
              "      <th>Email</th>\n",
              "      <th>Job</th>\n",
              "      <th>IP Address</th>\n",
              "      <th>Language</th>\n",
              "      <th>Purchase Price</th>\n",
              "    </tr>\n",
              "  </thead>\n",
              "  <tbody>\n",
              "    <tr>\n",
              "      <th>0</th>\n",
              "      <td>16629 Pace Camp Apt. 448\\nAlexisborough, NE 77...</td>\n",
              "      <td>46 in</td>\n",
              "      <td>PM</td>\n",
              "      <td>Opera/9.56.(X11; Linux x86_64; sl-SI) Presto/2...</td>\n",
              "      <td>Martinez-Herman</td>\n",
              "      <td>6011929061123406</td>\n",
              "      <td>02/20</td>\n",
              "      <td>900</td>\n",
              "      <td>JCB 16 digit</td>\n",
              "      <td>pdunlap@yahoo.com</td>\n",
              "      <td>Scientist, product/process development</td>\n",
              "      <td>149.146.147.205</td>\n",
              "      <td>el</td>\n",
              "      <td>98.14</td>\n",
              "    </tr>\n",
              "    <tr>\n",
              "      <th>1</th>\n",
              "      <td>9374 Jasmine Spurs Suite 508\\nSouth John, TN 8...</td>\n",
              "      <td>28 rn</td>\n",
              "      <td>PM</td>\n",
              "      <td>Opera/8.93.(Windows 98; Win 9x 4.90; en-US) Pr...</td>\n",
              "      <td>Fletcher, Richards and Whitaker</td>\n",
              "      <td>3337758169645356</td>\n",
              "      <td>11/18</td>\n",
              "      <td>561</td>\n",
              "      <td>Mastercard</td>\n",
              "      <td>anthony41@reed.com</td>\n",
              "      <td>Drilling engineer</td>\n",
              "      <td>15.160.41.51</td>\n",
              "      <td>fr</td>\n",
              "      <td>70.73</td>\n",
              "    </tr>\n",
              "    <tr>\n",
              "      <th>2</th>\n",
              "      <td>Unit 0065 Box 5052\\nDPO AP 27450</td>\n",
              "      <td>94 vE</td>\n",
              "      <td>PM</td>\n",
              "      <td>Mozilla/5.0 (compatible; MSIE 9.0; Windows NT ...</td>\n",
              "      <td>Simpson, Williams and Pham</td>\n",
              "      <td>675957666125</td>\n",
              "      <td>08/19</td>\n",
              "      <td>699</td>\n",
              "      <td>JCB 16 digit</td>\n",
              "      <td>amymiller@morales-harrison.com</td>\n",
              "      <td>Customer service manager</td>\n",
              "      <td>132.207.160.22</td>\n",
              "      <td>de</td>\n",
              "      <td>0.95</td>\n",
              "    </tr>\n",
              "    <tr>\n",
              "      <th>3</th>\n",
              "      <td>7780 Julia Fords\\nNew Stacy, WA 45798</td>\n",
              "      <td>36 vm</td>\n",
              "      <td>PM</td>\n",
              "      <td>Mozilla/5.0 (Macintosh; Intel Mac OS X 10_8_0 ...</td>\n",
              "      <td>Williams, Marshall and Buchanan</td>\n",
              "      <td>6011578504430710</td>\n",
              "      <td>02/24</td>\n",
              "      <td>384</td>\n",
              "      <td>Discover</td>\n",
              "      <td>brent16@olson-robinson.info</td>\n",
              "      <td>Drilling engineer</td>\n",
              "      <td>30.250.74.19</td>\n",
              "      <td>es</td>\n",
              "      <td>78.04</td>\n",
              "    </tr>\n",
              "    <tr>\n",
              "      <th>4</th>\n",
              "      <td>23012 Munoz Drive Suite 337\\nNew Cynthia, TX 5...</td>\n",
              "      <td>20 IE</td>\n",
              "      <td>AM</td>\n",
              "      <td>Opera/9.58.(X11; Linux x86_64; it-IT) Presto/2...</td>\n",
              "      <td>Brown, Watson and Andrews</td>\n",
              "      <td>6011456623207998</td>\n",
              "      <td>10/25</td>\n",
              "      <td>678</td>\n",
              "      <td>Diners Club / Carte Blanche</td>\n",
              "      <td>christopherwright@gmail.com</td>\n",
              "      <td>Fine artist</td>\n",
              "      <td>24.140.33.94</td>\n",
              "      <td>es</td>\n",
              "      <td>77.82</td>\n",
              "    </tr>\n",
              "  </tbody>\n",
              "</table>\n",
              "</div>\n",
              "      <button class=\"colab-df-convert\" onclick=\"convertToInteractive('df-0d50fbba-0553-4bfb-ac08-ddd31e2db433')\"\n",
              "              title=\"Convert this dataframe to an interactive table.\"\n",
              "              style=\"display:none;\">\n",
              "        \n",
              "  <svg xmlns=\"http://www.w3.org/2000/svg\" height=\"24px\"viewBox=\"0 0 24 24\"\n",
              "       width=\"24px\">\n",
              "    <path d=\"M0 0h24v24H0V0z\" fill=\"none\"/>\n",
              "    <path d=\"M18.56 5.44l.94 2.06.94-2.06 2.06-.94-2.06-.94-.94-2.06-.94 2.06-2.06.94zm-11 1L8.5 8.5l.94-2.06 2.06-.94-2.06-.94L8.5 2.5l-.94 2.06-2.06.94zm10 10l.94 2.06.94-2.06 2.06-.94-2.06-.94-.94-2.06-.94 2.06-2.06.94z\"/><path d=\"M17.41 7.96l-1.37-1.37c-.4-.4-.92-.59-1.43-.59-.52 0-1.04.2-1.43.59L10.3 9.45l-7.72 7.72c-.78.78-.78 2.05 0 2.83L4 21.41c.39.39.9.59 1.41.59.51 0 1.02-.2 1.41-.59l7.78-7.78 2.81-2.81c.8-.78.8-2.07 0-2.86zM5.41 20L4 18.59l7.72-7.72 1.47 1.35L5.41 20z\"/>\n",
              "  </svg>\n",
              "      </button>\n",
              "      \n",
              "  <style>\n",
              "    .colab-df-container {\n",
              "      display:flex;\n",
              "      flex-wrap:wrap;\n",
              "      gap: 12px;\n",
              "    }\n",
              "\n",
              "    .colab-df-convert {\n",
              "      background-color: #E8F0FE;\n",
              "      border: none;\n",
              "      border-radius: 50%;\n",
              "      cursor: pointer;\n",
              "      display: none;\n",
              "      fill: #1967D2;\n",
              "      height: 32px;\n",
              "      padding: 0 0 0 0;\n",
              "      width: 32px;\n",
              "    }\n",
              "\n",
              "    .colab-df-convert:hover {\n",
              "      background-color: #E2EBFA;\n",
              "      box-shadow: 0px 1px 2px rgba(60, 64, 67, 0.3), 0px 1px 3px 1px rgba(60, 64, 67, 0.15);\n",
              "      fill: #174EA6;\n",
              "    }\n",
              "\n",
              "    [theme=dark] .colab-df-convert {\n",
              "      background-color: #3B4455;\n",
              "      fill: #D2E3FC;\n",
              "    }\n",
              "\n",
              "    [theme=dark] .colab-df-convert:hover {\n",
              "      background-color: #434B5C;\n",
              "      box-shadow: 0px 1px 3px 1px rgba(0, 0, 0, 0.15);\n",
              "      filter: drop-shadow(0px 1px 2px rgba(0, 0, 0, 0.3));\n",
              "      fill: #FFFFFF;\n",
              "    }\n",
              "  </style>\n",
              "\n",
              "      <script>\n",
              "        const buttonEl =\n",
              "          document.querySelector('#df-0d50fbba-0553-4bfb-ac08-ddd31e2db433 button.colab-df-convert');\n",
              "        buttonEl.style.display =\n",
              "          google.colab.kernel.accessAllowed ? 'block' : 'none';\n",
              "\n",
              "        async function convertToInteractive(key) {\n",
              "          const element = document.querySelector('#df-0d50fbba-0553-4bfb-ac08-ddd31e2db433');\n",
              "          const dataTable =\n",
              "            await google.colab.kernel.invokeFunction('convertToInteractive',\n",
              "                                                     [key], {});\n",
              "          if (!dataTable) return;\n",
              "\n",
              "          const docLinkHtml = 'Like what you see? Visit the ' +\n",
              "            '<a target=\"_blank\" href=https://colab.research.google.com/notebooks/data_table.ipynb>data table notebook</a>'\n",
              "            + ' to learn more about interactive tables.';\n",
              "          element.innerHTML = '';\n",
              "          dataTable['output_type'] = 'display_data';\n",
              "          await google.colab.output.renderOutput(dataTable, element);\n",
              "          const docLink = document.createElement('div');\n",
              "          docLink.innerHTML = docLinkHtml;\n",
              "          element.appendChild(docLink);\n",
              "        }\n",
              "      </script>\n",
              "    </div>\n",
              "  </div>\n",
              "  "
            ]
          },
          "metadata": {},
          "execution_count": 5
        }
      ]
    },
    {
      "cell_type": "markdown",
      "metadata": {
        "id": "5kr6tLTFeGz6"
      },
      "source": [
        "*How many rows and columns are there?*"
      ]
    },
    {
      "cell_type": "code",
      "metadata": {
        "jupyter": {
          "outputs_hidden": false
        },
        "id": "4GcjD26_eGz7",
        "colab": {
          "base_uri": "https://localhost:8080/"
        },
        "outputId": "116025f8-1db6-4303-aff3-f05f506401ff"
      },
      "source": [
        "print(f'Dataframe have {econ.shape[0]} rows')\n",
        "print(f'Dataframe have {econ.shape[1]} columns')"
      ],
      "execution_count": 6,
      "outputs": [
        {
          "output_type": "stream",
          "name": "stdout",
          "text": [
            "Dataframe have 10000 rows\n",
            "Dataframe have 14 columns\n"
          ]
        }
      ]
    },
    {
      "cell_type": "markdown",
      "metadata": {
        "id": "H347HqLAeGz7"
      },
      "source": [
        "*What is the average Purchase Price?*"
      ]
    },
    {
      "cell_type": "code",
      "metadata": {
        "jupyter": {
          "outputs_hidden": false
        },
        "id": "3wKeWHn_eGz8",
        "colab": {
          "base_uri": "https://localhost:8080/"
        },
        "outputId": "59368413-3916-4d6c-e35a-2be563a8d827"
      },
      "source": [
        "print(f\"Average purchase price {econ['Purchase Price'].mean()}\")"
      ],
      "execution_count": 12,
      "outputs": [
        {
          "output_type": "stream",
          "name": "stdout",
          "text": [
            "Average purchase price 50.34730200000025\n"
          ]
        }
      ]
    },
    {
      "cell_type": "markdown",
      "metadata": {
        "id": "AZGP7FrMeGz9"
      },
      "source": [
        "*What were the highest and lowest purchase prices?*"
      ]
    },
    {
      "cell_type": "code",
      "metadata": {
        "jupyter": {
          "outputs_hidden": false
        },
        "id": "bWKNtSw1eGz9",
        "colab": {
          "base_uri": "https://localhost:8080/"
        },
        "outputId": "8497647b-5daf-4150-b18d-86baee2ac597"
      },
      "source": [
        "print(f\"Highest purchase price {econ['Purchase Price'].max()}\")\n"
      ],
      "execution_count": 16,
      "outputs": [
        {
          "output_type": "stream",
          "name": "stdout",
          "text": [
            "Highest purchase price 99.99\n"
          ]
        }
      ]
    },
    {
      "cell_type": "code",
      "metadata": {
        "jupyter": {
          "outputs_hidden": false
        },
        "id": "tZkMr3nReGz9",
        "colab": {
          "base_uri": "https://localhost:8080/"
        },
        "outputId": "b27d2163-aa6b-4ce4-bb9e-86a7e9e2f8d2"
      },
      "source": [
        "print(f\"Lowest purchase price {econ['Purchase Price'].min()}\")"
      ],
      "execution_count": 17,
      "outputs": [
        {
          "output_type": "stream",
          "name": "stdout",
          "text": [
            "Lowest purchase price 0.0\n"
          ]
        }
      ]
    },
    {
      "cell_type": "markdown",
      "metadata": {
        "id": "cxeCIXiUeGz-"
      },
      "source": [
        "*How many people have English 'en' as their Language of choice on the website?*"
      ]
    },
    {
      "cell_type": "code",
      "metadata": {
        "jupyter": {
          "outputs_hidden": false
        },
        "id": "d3exf5sAeGz-",
        "colab": {
          "base_uri": "https://localhost:8080/"
        },
        "outputId": "d0982618-c986-4490-ae8e-539e4ce08a16"
      },
      "source": [
        "# Get new dataframe for people have english language\n",
        "\n",
        "english_people = econ[econ.Language == 'en']\n",
        "print(f\"All people who have english  {english_people.shape[0]}\")"
      ],
      "execution_count": 21,
      "outputs": [
        {
          "output_type": "stream",
          "name": "stdout",
          "text": [
            "All people who have english  1098\n"
          ]
        }
      ]
    },
    {
      "cell_type": "code",
      "metadata": {
        "id": "IvJgQ-Ct0hmD",
        "colab": {
          "base_uri": "https://localhost:8080/"
        },
        "outputId": "442c1e5c-4ea7-4b38-ccaa-d933c9ad83ce"
      },
      "source": [
        "# it is verified that there are no duplicate people, just to be sure not to show duplicate results\n",
        "\n",
        "english_people.drop_duplicates(subset=('Address'), inplace=True)\n"
      ],
      "execution_count": 22,
      "outputs": [
        {
          "output_type": "stream",
          "name": "stdout",
          "text": [
            "People who have english  1098\n"
          ]
        },
        {
          "output_type": "stream",
          "name": "stderr",
          "text": [
            "/usr/local/lib/python3.7/dist-packages/pandas/util/_decorators.py:311: SettingWithCopyWarning: \n",
            "A value is trying to be set on a copy of a slice from a DataFrame\n",
            "\n",
            "See the caveats in the documentation: https://pandas.pydata.org/pandas-docs/stable/user_guide/indexing.html#returning-a-view-versus-a-copy\n",
            "  return func(*args, **kwargs)\n"
          ]
        }
      ]
    },
    {
      "cell_type": "code",
      "metadata": {
        "id": "Q2-OFwPizXo5",
        "colab": {
          "base_uri": "https://localhost:8080/"
        },
        "outputId": "f11730d7-7adc-49fa-9419-4ae606659f3b"
      },
      "source": [
        "print(f\"People who have english  {english_people.shape[0]}\")"
      ],
      "execution_count": 23,
      "outputs": [
        {
          "output_type": "stream",
          "name": "stdout",
          "text": [
            "People who have english  1098\n"
          ]
        }
      ]
    },
    {
      "cell_type": "code",
      "metadata": {
        "id": "fEUVJr0szXlp"
      },
      "source": [
        ""
      ],
      "execution_count": null,
      "outputs": []
    },
    {
      "cell_type": "markdown",
      "metadata": {
        "id": "Rb_jA2u7eGz_"
      },
      "source": [
        "*How many people have the job title of \"Lawyer\" ?*\n"
      ]
    },
    {
      "cell_type": "code",
      "metadata": {
        "jupyter": {
          "outputs_hidden": false
        },
        "id": "IiTuxjuVeGz_",
        "colab": {
          "base_uri": "https://localhost:8080/"
        },
        "outputId": "ff4ec705-aef9-4872-bbd5-36e5d264e81b"
      },
      "source": [
        "# Get new dataframe for lawyers\n",
        "\n",
        "lawyers = econ[econ.Job == 'Lawyer']\n",
        "print(f\"All lawyers in econ dataframe  {lawyers.shape[0]}\")"
      ],
      "execution_count": 27,
      "outputs": [
        {
          "output_type": "stream",
          "name": "stdout",
          "text": [
            "All lawyers in econ dataframe  30\n"
          ]
        }
      ]
    },
    {
      "cell_type": "code",
      "metadata": {
        "id": "cefjHxuN1RlV",
        "colab": {
          "base_uri": "https://localhost:8080/"
        },
        "outputId": "b3ddbb95-585d-4bb3-edcf-9dd105991195"
      },
      "source": [
        "# it is verified that there are no duplicate people, just to be sure not to show duplicate results\n",
        "lawyers.drop_duplicates(subset=('Address'), inplace=True)\n"
      ],
      "execution_count": 28,
      "outputs": [
        {
          "output_type": "stream",
          "name": "stderr",
          "text": [
            "/usr/local/lib/python3.7/dist-packages/pandas/util/_decorators.py:311: SettingWithCopyWarning: \n",
            "A value is trying to be set on a copy of a slice from a DataFrame\n",
            "\n",
            "See the caveats in the documentation: https://pandas.pydata.org/pandas-docs/stable/user_guide/indexing.html#returning-a-view-versus-a-copy\n",
            "  return func(*args, **kwargs)\n"
          ]
        }
      ]
    },
    {
      "cell_type": "code",
      "metadata": {
        "jupyter": {
          "outputs_hidden": false
        },
        "id": "VYUiZ8jjeG0A",
        "colab": {
          "base_uri": "https://localhost:8080/"
        },
        "outputId": "d891cf7f-5a10-445d-b3e9-4d3f92aa5340"
      },
      "source": [
        "print(f\"Lawyers  {lawyers.shape[0]}\")"
      ],
      "execution_count": 29,
      "outputs": [
        {
          "output_type": "stream",
          "name": "stdout",
          "text": [
            "Lawyers  30\n"
          ]
        }
      ]
    },
    {
      "cell_type": "markdown",
      "metadata": {
        "id": "52f6zZe-eG0A"
      },
      "source": [
        "*How many people made the purchase during the AM and how many people made the purchase during PM ?*\n",
        "\n",
        "*(Hint: Check out [value_counts()](http://pandas.pydata.org/pandas-docs/stable/generated/pandas.Series.value_counts.html) )*"
      ]
    },
    {
      "cell_type": "code",
      "metadata": {
        "id": "SPBkhEa02BNK",
        "colab": {
          "base_uri": "https://localhost:8080/"
        },
        "outputId": "15a2657a-e7ca-4518-daa2-066d2f9ff37c"
      },
      "source": [
        "print(f\"People who made a purchase during the AM  {econ[econ['AM or PM'] == 'AM'].shape[0]}\")\n",
        "print(f\"People who made a purchase during the PM  {econ[econ['AM or PM'] == 'PM'].shape[0]}\")"
      ],
      "execution_count": 31,
      "outputs": [
        {
          "output_type": "stream",
          "name": "stdout",
          "text": [
            "People who made a purchase during the AM  4932\n",
            "People who made a purchase during the PM  5068\n"
          ]
        }
      ]
    },
    {
      "cell_type": "markdown",
      "metadata": {
        "id": "rH-Ul1JgeG0A"
      },
      "source": [
        "*What are the 5 most common Job Titles?*"
      ]
    },
    {
      "cell_type": "code",
      "metadata": {
        "jupyter": {
          "outputs_hidden": false
        },
        "id": "_oUqgJrWeG0B",
        "colab": {
          "base_uri": "https://localhost:8080/"
        },
        "outputId": "30aad6fa-4ca2-49fe-c8bb-202d379b9928"
      },
      "source": [
        "# Group by Job, sort ascending and selecting five first colums\n",
        "econ_jobs = econ.groupby(\n",
        "    ['Job']).size().reset_index(name='job_frecuency')\n",
        "\n",
        "top_jobs = econ_jobs.sort_values(by='job_frecuency', ascending=False).iloc[0:5]\n",
        "\n",
        "print(f'Top 5 most commons Jobs {tuple(list(top_jobs.Job))}') # convert list to tuple for display purposes only "
      ],
      "execution_count": 39,
      "outputs": [
        {
          "output_type": "stream",
          "name": "stdout",
          "text": [
            "Top 5 most commons Jobs ('Interior and spatial designer', 'Lawyer', 'Social researcher', 'Designer, jewellery', 'Research officer, political party')\n"
          ]
        }
      ]
    },
    {
      "cell_type": "markdown",
      "metadata": {
        "id": "k7o-K9KHeG0B"
      },
      "source": [
        "*Someone made a purchase that came from Lot: \"90 WT\" , what was the Purchase Price for this transaction?*"
      ]
    },
    {
      "cell_type": "code",
      "metadata": {
        "jupyter": {
          "outputs_hidden": false
        },
        "id": "Rv4DXr0DeG0B",
        "colab": {
          "base_uri": "https://localhost:8080/"
        },
        "outputId": "d9831fdc-8bfb-4683-c4c7-13f7eb7337a0"
      },
      "source": [
        "print(f\"Price for 90 WT lot was {econ[econ.Lot == '90 WT']['Purchase Price'].values[0]}\")\n"
      ],
      "execution_count": 44,
      "outputs": [
        {
          "output_type": "stream",
          "name": "stdout",
          "text": [
            "Price for 90 WT lot was 75.1\n"
          ]
        }
      ]
    },
    {
      "cell_type": "markdown",
      "metadata": {
        "id": "y19W0gJeeG0C"
      },
      "source": [
        "*What is the email of the person with the following Credit Card Number: 4926535242672853*"
      ]
    },
    {
      "cell_type": "code",
      "metadata": {
        "jupyter": {
          "outputs_hidden": false
        },
        "id": "jaXPp3hteG0C",
        "colab": {
          "base_uri": "https://localhost:8080/"
        },
        "outputId": "5b54c45c-10a7-45d9-88e7-f7e681742c85"
      },
      "source": [
        "print(f\"Email registred for credit card number 4926535242672853 is {econ[econ['Credit Card'] == 4926535242672853].Email.values[0]}\")"
      ],
      "execution_count": 46,
      "outputs": [
        {
          "output_type": "stream",
          "name": "stdout",
          "text": [
            "Email registred for credit card number 4926535242672853 is bondellen@williams-garza.com\n"
          ]
        }
      ]
    },
    {
      "cell_type": "markdown",
      "metadata": {
        "id": "tj7QNKYreG0C"
      },
      "source": [
        "*How many people have American Express as their Credit Card Provider and made a purchase above $95 ?*"
      ]
    },
    {
      "cell_type": "code",
      "metadata": {
        "jupyter": {
          "outputs_hidden": false
        },
        "id": "2MGRNzvDeG0C",
        "colab": {
          "base_uri": "https://localhost:8080/"
        },
        "outputId": "dbd22e00-26ad-4d65-b39d-94a75362a771"
      },
      "source": [
        "# Check CC types in data\n",
        "econ['CC Provider'].value_counts()"
      ],
      "execution_count": 47,
      "outputs": [
        {
          "output_type": "execute_result",
          "data": {
            "text/plain": [
              "JCB 16 digit                   1716\n",
              "VISA 16 digit                  1715\n",
              "JCB 15 digit                    868\n",
              "American Express                849\n",
              "Maestro                         846\n",
              "Voyager                         829\n",
              "Discover                        817\n",
              "Mastercard                      816\n",
              "VISA 13 digit                   777\n",
              "Diners Club / Carte Blanche     767\n",
              "Name: CC Provider, dtype: int64"
            ]
          },
          "metadata": {},
          "execution_count": 47
        }
      ]
    },
    {
      "cell_type": "code",
      "metadata": {
        "id": "Y5QlaosK3aPQ",
        "colab": {
          "base_uri": "https://localhost:8080/"
        },
        "outputId": "f5fa522d-db0b-4adb-b58a-a9b187f1093e"
      },
      "source": [
        "print(\n",
        "    f\"People who made a purchase with American express CC above $95: \\\n",
        "     {econ[(econ['CC Provider'] == 'American Express') & (econ['Purchase Price'] > 95)].shape[0]}\")"
      ],
      "execution_count": 49,
      "outputs": [
        {
          "output_type": "stream",
          "name": "stdout",
          "text": [
            "People who made a purchase with American express CC above $95: 39\n"
          ]
        }
      ]
    },
    {
      "cell_type": "markdown",
      "metadata": {
        "id": "EwTzWNnMeG0D"
      },
      "source": [
        "*Hard: How many people have a credit card that expires in 2025?*"
      ]
    },
    {
      "cell_type": "code",
      "metadata": {
        "jupyter": {
          "outputs_hidden": false
        },
        "id": "2xKC2jr0eG0D"
      },
      "source": [
        "# Create a new column for expiration year, split column \"CC Exp Date\" on \"/\", take second part and convert to int\n",
        "\n",
        "econ['exp_year'] = econ.apply(lambda x: int(x['CC Exp Date'].split('/')[1]), axis=1)"
      ],
      "execution_count": 57,
      "outputs": []
    },
    {
      "cell_type": "code",
      "metadata": {
        "id": "L-k1JyjY4wtX",
        "colab": {
          "base_uri": "https://localhost:8080/"
        },
        "outputId": "b5d2350b-4873-49cd-e148-ba46e617cbff"
      },
      "source": [
        "print(f\"People who credit card expirate in 2025 {econ[econ.exp_year == 25].shape[0]}\")"
      ],
      "execution_count": 59,
      "outputs": [
        {
          "output_type": "stream",
          "name": "stdout",
          "text": [
            "People who credit card expirate in 2025 1033\n"
          ]
        }
      ]
    },
    {
      "cell_type": "code",
      "metadata": {
        "id": "SqPFBe8Z4wb5"
      },
      "source": [
        ""
      ],
      "execution_count": 59,
      "outputs": []
    },
    {
      "cell_type": "code",
      "metadata": {
        "id": "PgI0RkN59imP"
      },
      "source": [
        ""
      ],
      "execution_count": null,
      "outputs": []
    },
    {
      "cell_type": "code",
      "metadata": {
        "id": "gEIbkIGa4wYJ"
      },
      "source": [
        ""
      ],
      "execution_count": null,
      "outputs": []
    },
    {
      "cell_type": "code",
      "metadata": {
        "id": "egZAOKek4wSZ"
      },
      "source": [
        ""
      ],
      "execution_count": null,
      "outputs": []
    },
    {
      "cell_type": "code",
      "metadata": {
        "id": "FQttY5hl4wN7"
      },
      "source": [
        ""
      ],
      "execution_count": null,
      "outputs": []
    },
    {
      "cell_type": "markdown",
      "metadata": {
        "id": "pz9cLaYeeG0D"
      },
      "source": [
        "*Hard: What are the top 5 most popular email providers/hosts (e.g. gmail.com, yahoo.com, etc...)*"
      ]
    },
    {
      "cell_type": "code",
      "metadata": {
        "jupyter": {
          "outputs_hidden": false
        },
        "id": "OI2STEeveG0D"
      },
      "source": [
        "''' Create a new column for mail provider, split column \"email\" on \"@\", take second part, \n",
        "    then split again on \".\" and finally take de first '''\n",
        "econ['email_provider'] = econ.apply(lambda x: (x['Email'].split('@')[1]).split('.')[0], axis=1)\n"
      ],
      "execution_count": 63,
      "outputs": []
    },
    {
      "cell_type": "code",
      "source": [
        "econ_emails_providers = econ.groupby(\n",
        "    ['email_provider']).size().reset_index(name='email_provider_frecuency')\n",
        "\n",
        "top_emails_providers = econ_emails_providers.sort_values(by='email_provider_frecuency', ascending=False).iloc[0:5]\n",
        "\n",
        "print(f'Top 5 most commons Emails providers {tuple(list(top_emails_providers.email_provider))}') # convert list to tuple for display purposes only "
      ],
      "metadata": {
        "id": "Cj4DphAA2J7q",
        "outputId": "42231dac-7db3-4822-93d2-bc40177a3c6d",
        "colab": {
          "base_uri": "https://localhost:8080/"
        }
      },
      "execution_count": 64,
      "outputs": [
        {
          "output_type": "stream",
          "name": "stdout",
          "text": [
            "Top 5 most commons Emails providers ('hotmail', 'yahoo', 'gmail', 'smith', 'williams')\n"
          ]
        }
      ]
    },
    {
      "cell_type": "markdown",
      "metadata": {
        "id": "DRtAuFZZeG0D"
      },
      "source": [
        "# Great Job!"
      ]
    },
    {
      "cell_type": "code",
      "source": [
        ""
      ],
      "metadata": {
        "id": "ScUd5kjNN8jj"
      },
      "execution_count": null,
      "outputs": []
    }
  ]
}